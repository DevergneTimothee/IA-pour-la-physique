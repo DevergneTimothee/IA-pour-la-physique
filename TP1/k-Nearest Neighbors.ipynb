{
 "cells": [
  {
   "cell_type": "code",
   "execution_count": null,
   "metadata": {},
   "outputs": [],
   "source": [
    "%matplotlib inline\n",
    "import numpy as np\n",
    "import matplotlib.pyplot as plt\n",
    "plt.rcParams[\"figure.figsize\"] = (8, 8)\n",
    "plt.rcParams[\"font.size\"] = 14"
   ]
  },
  {
   "cell_type": "markdown",
   "metadata": {},
   "source": [
    "# Classification via k-Nearest Neighbours\n",
    "## Introduction\n",
    "Dans ce TP, nous allons d'abord étudier la méthode d'apprentissage par \"k premiers voisins\" (k nearest neighbours). Il s'agit d'une des méthodes les plus simples d'apprentissage supervisé. Supposons que nous avons un ensemble de données $(X_i,Y_i)$, $X_i$ évoluant dans un espace $E$ dôté d'une distance $D$, et $Y_i$ des réels correspondant à une caractéristique associée à la donnée i. Toutes ces données constituent l'ensemble d'entraînement. Comme dans tout problème de machine learning, ce que l'on veut faire, c'est associer à une nouvelle donnée $Z$ sa caractéristique associée à partir des données connues.\n",
    "\n",
    "\n",
    "\n",
    "\n",
    "\n",
    "De manière intuitive, la chose la plus simple à faire, est de trouver les plus proches voisins de $Z$ dans les données $X_i$ en terme de la distance $D$. Dans cette méthode, on fixe ce qu'on appelle un \"hyperparamètre\" du modèle, k qui correspond au nombre de voisins du nouveau point que nous voulons prendre pour réaliser l'estimation. Voici l'algorithme : \n",
    "\n",
    "\n",
    "- Calculer les distances $D_i = D(X_i,Z)$\n",
    "- Prendre les k premières plus petites distances, on note les indices correspondants $(i_j)_{j\\in[1,k]}$\n",
    "- On peut maintenant calculer l'estimation : $$W = \\dfrac{1} {k} \\sum_{j=1}^{k} Y_{i_j}$$\n",
    "\n",
    "\n",
    "## Objectifs du TP\n",
    "Le but de ce TP est d'appliquer cette methode d'abord à des données synthétiques, puis à des datasets réels. Une illustration de cette methode sur la figure suivante. Dans ce TP vous découvrirez les concepts fondamentaux du machine learning, comme la différenciation entre un ensemble de test, un ensemble de validation et un ensemble d'entraînement.Vous apprendrez aussi à choisir un hyperparamètre d'un modèle machine learning. Enfin, et peut-être le plus important, vous apprendrez à aller chercher une fonction dont vous avez besoin et à lire sa documentation.\n"
   ]
  },
  {
   "cell_type": "markdown",
   "metadata": {},
   "source": [
    "![scikit-learn website](k_nearest.png)"
   ]
  },
  {
   "cell_type": "markdown",
   "metadata": {},
   "source": [
    "Générons d’abord des données synthétiques, ou artifcielles, avant de travailler avec des vrais problemes.   Notre modèle génératif sera un modèle de mélange gaussien (GMM, Gaussian Mixture Model): pour chaque classe, nous allons d'abord échantillonner 10 centroïdes différents\n",
    "${\\vec m}_k$ from $\\mathcal{N} ({\\vec 0}, I_2)$, puis choisissez des centroïdes au hasard et échantillonnez les données réelles de\n",
    "$\\mathcal{N} ({\\vec m}_k, \\frac{1}{5} I_2)$.\n",
    "\n",
    "Nous commençons par échantillonner les centroïdes et les tracer."
   ]
  },
  {
   "cell_type": "code",
   "execution_count": null,
   "metadata": {},
   "outputs": [],
   "source": [
    "# Samples 10 centroids for each class from two different bivariate Normal distributions\n",
    "centroids_per_class = 10\n",
    "\n",
    "class0_centroids = [1, 0] + np.random.randn(centroids_per_class, 2)\n",
    "class1_centroids = [0, 1] + np.random.randn(centroids_per_class, 2)\n",
    "\n",
    "# Plot centroids\n",
    "plt.plot(class0_centroids[:, 0], class0_centroids[:, 1], \"o\", markersize=8)\n",
    "plt.plot(class1_centroids[:, 0], class1_centroids[:, 1], \"x\", markersize=8)\n",
    "plt.title(\"Centroids\")"
   ]
  },
  {
   "cell_type": "markdown",
   "metadata": {},
   "source": [
    "Une fois que nous avons les centroïdes, nous pouvons échantillonner les données réelles"
   ]
  },
  {
   "cell_type": "code",
   "execution_count": null,
   "metadata": {},
   "outputs": [],
   "source": [
    "samples_per_class = 100\n",
    "\n",
    "# Sample actual data sampling from Normal distributions positioned around the centroids\n",
    "class0_labels = np.random.randint(10, size = samples_per_class)\n",
    "class1_labels = np.random.randint(10, size = samples_per_class)\n",
    "\n",
    "class0_samples = class0_centroids[class0_labels, :] + np.sqrt(1. / 5) * np.random.randn(samples_per_class, 2)\n",
    "class1_samples = class1_centroids[class1_labels, :] + np.sqrt(1. / 5) * np.random.randn(samples_per_class, 2)\n",
    "\n",
    "# Plot data\n",
    "plt.plot(class0_samples[:, 0], class0_samples[:, 1], \"o\", markersize=8)\n",
    "plt.plot(class1_samples[:, 0], class1_samples[:, 1], \"x\", markersize=8)\n",
    "plt.title(\"Samples\")"
   ]
  },
  {
   "cell_type": "markdown",
   "metadata": {},
   "source": [
    "C’est le problème que nous voulons résoudre: on nous donne ces points et nous voulons trouver une frontière de décision assurant la généralisation, c’est-à-dire que nous pourrons classer correctement les nouveaux échantillons une fois qu’ils nous auront été fournis.\n",
    "\n",
    "Groupons les données de manière agréable. Pour les problèmes de classification binaire comme celui-ci, la manière dont les données sont arrangées est généralement toujours la même.\n",
    "- une matrice des données $ X $ de taille $ N \\times P $, où $ N $ est le nombre d'échantillons et $ P $ est le nombre de parametres (ou descripteurs/features) (dans notre cas, $ N = 200 $ et $ P = 2 $) ;\n",
    "- un vecteur de label $ y \\in \\{0, 1 \\} ^ N $ indiquant à quelle classe appartient chaque échantillon"
   ]
  },
  {
   "cell_type": "code",
   "execution_count": null,
   "metadata": {},
   "outputs": [],
   "source": [
    "X = np.vstack((class0_samples, class1_samples))\n",
    "y = np.hstack((np.zeros(samples_per_class), np.ones(samples_per_class)))\n",
    "\n",
    "print(X)\n",
    "print(y)\n",
    "\n",
    "n_samples, n_features = np.shape(X)"
   ]
  },
  {
   "cell_type": "markdown",
   "metadata": {},
   "source": [
    "Ensuite, nous calculons la matrice de distance, une matrice $ N \\times N $ contenant la distance entre chaque échantillon et tous les autres (en avons-nous vraiment besoin?)\n",
    "\n",
    "**Exercice** : calculez la matrice de distance."
   ]
  },
  {
   "cell_type": "code",
   "execution_count": null,
   "metadata": {},
   "outputs": [],
   "source": [
    "def compute_distances(X):\n",
    "    # Here goes the algorithm\n",
    "    return distances"
   ]
  },
  {
   "cell_type": "markdown",
   "metadata": {},
   "source": [
    "**Exercice** Rechercher dans la documentation de scipy une fonction qui permet de calculer la matrice des distances"
   ]
  },
  {
   "cell_type": "code",
   "execution_count": null,
   "metadata": {},
   "outputs": [],
   "source": [
    "\n",
    "# Compare your function with one that someone already wrote in C\n",
    "# Look for such a function in the documentation of scipy and replace the ???\n",
    "from ??? import ???\n",
    "distances = ???(X, X)\n",
    "print(distances)"
   ]
  },
  {
   "cell_type": "markdown",
   "metadata": {},
   "source": [
    "En utilisant la matrice de distance, nous pouvons maintenant écrire notre algorithme!\n",
    "\n",
    "**Exercice**: écrivez une fonction qui calcule l'estimation du voisin $ k $ le plus proche pour chaque point de l'ensemble d'apprentissage. Astuce: recherchez la fonction `np.argpartition`. Quelle est l'erreur de formation?"
   ]
  },
  {
   "cell_type": "code",
   "execution_count": null,
   "metadata": {},
   "outputs": [],
   "source": [
    "?np.argpartition"
   ]
  },
  {
   "cell_type": "code",
   "execution_count": null,
   "metadata": {},
   "outputs": [],
   "source": [
    "def knn(X, y, k):\n",
    "    # Here goes the algorithm\n",
    "    return estimate\n",
    "\n",
    "est_labels = knn(X, y, 10)\n",
    "print(est_labels)\n",
    "\n",
    "# Let us compute the training error\n",
    "train_error = np.mean(y != est_labels)\n",
    "print(train_error)"
   ]
  },
  {
   "cell_type": "markdown",
   "metadata": {},
   "source": [
    "La première moitié du vecteur devrait être composée uniquement de 0 et la seconde moitié devrait être composée de 1; nous pouvons voir cependant qu'il y a des erreurs. Laissez-nous les comploter pour essayer de comprendre ce qui se passe."
   ]
  },
  {
   "cell_type": "code",
   "execution_count": null,
   "metadata": {},
   "outputs": [],
   "source": [
    "# Plot data\n",
    "plt.plot(X[y == 0, 0], X[y == 0, 1], \"o\", markersize=8)\n",
    "plt.plot(X[y == 1, 0], X[y == 1, 1], \"x\", markersize=8)\n",
    "\n",
    "# Draw a red circle around misclassified samples\n",
    "errors = (y != est_labels)\n",
    "plt.plot(X[errors, 0], X[errors, 1], \"o\", color=\"red\", markeredgewidth=3, markerfacecolor=\"white\", markersize=12, alpha=0.5)\n",
    "#plt.plot(X[errors, 0], X[errors, 1], \"o\", color=\"red\", mew=3, mfc=\"white\", ms=12, alpha=0.5)"
   ]
  },
  {
   "cell_type": "markdown",
   "metadata": {},
   "source": [
    "Comme on pouvait s'y attendre, des erreurs se produisent dans des régions où la majorité des points appartiennent à l'autre classe.\n",
    "\n",
    "Mais que se passe-t-il lorsque nous essayons de classer des points qui ne sont pas dans le set d'entrainement (le training set)? Il y a plusieurs façons d'évaluer cela. Par exemple, nous aurions pu utiliser seulement une partie de nos données dans l'ensemble de formation (environ 80%) et utiliser le reste pour calculer l'erreur dite de test.\n",
    "Puisque dans notre cas cependant le modèle génératif est connu, nous pourrions aussi bien en extraire davantage d’échantillons."
   ]
  },
  {
   "cell_type": "code",
   "execution_count": null,
   "metadata": {},
   "outputs": [],
   "source": [
    "# Sample test data from the model\n",
    "testsamples_per_class = 10000\n",
    "\n",
    "class0_testlabels = np.random.randint(10, size = testsamples_per_class)\n",
    "class1_testlabels = np.random.randint(10, size = testsamples_per_class)\n",
    "class0_testsamples = class0_centroids[class0_testlabels, :] + np.sqrt(1. / 5) * np.random.randn(testsamples_per_class, 2)\n",
    "class1_testsamples = class1_centroids[class1_testlabels, :] + np.sqrt(1. / 5) * np.random.randn(testsamples_per_class, 2)\n",
    "\n",
    "X_test = np.vstack((class0_testsamples, class1_testsamples))\n",
    "y_test = np.hstack((np.zeros(testsamples_per_class), np.ones(testsamples_per_class)))\n",
    "\n",
    "# Compute distance matrix between X and X_test\n",
    "distances_test = ???(X, X_test)\n",
    "print(distances_test)\n",
    "print(np.shape(distances_test))"
   ]
  },
  {
   "cell_type": "code",
   "execution_count": null,
   "metadata": {},
   "outputs": [],
   "source": [
    "# Plot test data\n",
    "plt.plot(X_test[y_test == 0, 0], X_test[y_test == 0, 1], \"o\", ms=8)\n",
    "plt.plot(X_test[y_test == 1, 0], X_test[y_test == 1, 1], \"x\", ms=8)"
   ]
  },
  {
   "cell_type": "markdown",
   "metadata": {},
   "source": [
    "Nous écrivons maintenant une fonction similaire à `knn` qui calcule les estimations non pas pour les points du jeu d’entraînement, mais pour les points d’un nouveau * test *."
   ]
  },
  {
   "cell_type": "code",
   "execution_count": null,
   "metadata": {},
   "outputs": [],
   "source": [
    "def knn_test(X_train, y_train, X_test, y_test, k):\n",
    "    # Here goes the algorithm\n",
    "    # The predictions have to be made on X_test from the data from X_train/y_train\n",
    "    return estimate\n",
    "\n",
    "est_testlabels = knn_test(X, y, X_test, y_test, 10)\n",
    "print(est_testlabels)\n",
    "\n",
    "# Let us compute the test error, now\n",
    "print(np.mean(y_test != est_testlabels))"
   ]
  },
  {
   "cell_type": "markdown",
   "metadata": {},
   "source": [
    "L’un des problèmes que nous rencontrons lorsque nous utilisons les l'algorithme kNN est qu’il faut choisir une valeur pour $ k $ - en principe, on ne sait pas comment le faire!\n",
    "Pour mieux comprendre cela, voyons comment se comportent les erreurs d’entraînement et de test en fonction de $ k $."
   ]
  },
  {
   "cell_type": "code",
   "execution_count": null,
   "metadata": {},
   "outputs": [],
   "source": [
    "# Convenience functions that compute the training and test errors, given training and test samples\n",
    "def compute_train_error(X, y, k=1):\n",
    "    y_hat = knn(X, y, k)\n",
    "    return np.mean(y != y_hat)\n",
    "    \n",
    "def compute_test_error(X_train, y_train, X_test, y_test, k=1):\n",
    "    y_hat = knn_test(X_train, y_train, X_test, y_test, k)\n",
    "    return np.mean(y_test != y_hat)\n",
    "\n",
    "# Run functions for k belonging to a range of values\n",
    "ks = np.arange(1, 20)\n",
    "train_error = []\n",
    "test_error = []\n",
    "for (i, k) in enumerate(ks):\n",
    "    train_error.append(compute_train_error(X, y, k))\n",
    "    test_error.append(compute_test_error(X, y, X_test, y_test, k))\n",
    "    print(\"k = %d; train error = %g, test error = %g\" % (k, train_error[-1], test_error[-1]))\n",
    "\n",
    "# Plot results\n",
    "plt.plot(ks, train_error, label = \"train\")\n",
    "plt.plot(ks, test_error, label = \"test\")\n",
    "plt.legend()\n",
    "plt.xlabel(r\"$k$\")\n",
    "plt.ylabel(\"misclassification error\")"
   ]
  },
  {
   "cell_type": "markdown",
   "metadata": {},
   "source": [
    "Il est instructif d’utiliser une autre quantité sur l’axe des x au lieu de $k$: le nombre de degrés de liberté $N / k$. En effet, plus le nombre $k$ est grand,   plus le nombre de paramètres effectifs est petit - pensons par exemple à la limite $k = N$ ,  où tout le monde se voit attribuer le meme label!"
   ]
  },
  {
   "cell_type": "code",
   "execution_count": null,
   "metadata": {},
   "outputs": [],
   "source": [
    "# Re-run the experiment above for a different range of values\n",
    "ks = np.r_[np.arange(1, 10), np.arange(10, 150, 30)]\n",
    "train_error = []\n",
    "test_error = []\n",
    "for k in ks:\n",
    "    train_error.append(compute_train_error(X, y, k))\n",
    "    test_error.append(compute_test_error(X, y, X_test, y_test, k))\n",
    "    print(\"k = %d; train error = %g, test error = %g\" % (k, train_error[-1], test_error[-1]))\n",
    "\n",
    "# Plot error as a function of the degrees of freedom\n",
    "plt.plot(len(y) / np.array(ks), train_error, \"-o\", label = \"train\")\n",
    "plt.plot(len(y) / np.array(ks), test_error, \"-o\", label = \"test\")\n",
    "plt.legend()\n",
    "plt.xlabel(r\"degrees of freedom $N / k$\")\n",
    "plt.ylabel(\"misclassification error\")\n",
    "plt.ylim((0.0, 0.5))"
   ]
  },
  {
   "cell_type": "markdown",
   "metadata": {},
   "source": [
    "Ce graphique rend explicite le fameux * compromis biais-variance * qui apparaît dans toutes les études statistiques. Si nous avons plus de paramètres, nous pouvons obtenir une erreur d’entraînement réduite, mais l’erreur de test (par analogie, de généralisation) augmente en fait, ce qui signifie que nous sur-ajustons (over-fitting en anglais)"
   ]
  },
  {
   "cell_type": "markdown",
   "metadata": {},
   "source": [
    "## A Python library for Machine Learning: scikit-learn"
   ]
  },
  {
   "cell_type": "markdown",
   "metadata": {},
   "source": [
    "Vous avez peut-être remarqué que l'exécution de notre implémentation $ k $ -NN pour 20000 échantillons commençait déjà à sembler un peu lente… C'est parce qu'elle n'est pas vraiment optimisée. Si nous voulions que les choses soient rapides, nous devrions recourir à du code C, en utilisant des extensions Python telles que Cython ou ctypes (c'est en fait ce que font pour nous des paquets tels que Numpy et Scipy).\n",
    "De plus, nous avons fait les choses très naïvement - par exemple, il n’est pas nécessaire de calculer la matrice de distance complète si on utilise des structures de données appropriées telles que kd-trees, etc.\n",
    "\n",
    "Heureusement pour nous, il y a des gens qui ont déjà écrit des versions optimisées de la plupart des algorithmes d'apprentissage automatique standard! L'un des package les. plus populaire est le projet scikit-learn, wui a débuté sous le nom de scikits.learn, un projet Google Summer of Code de David Cournapeau.  Elle est développée par de nombreux contributeurs, et notamment dans le monde académique par des instituts français d'enseignement supérieur et de recherche."
   ]
  },
  {
   "cell_type": "markdown",
   "metadata": {},
   "source": [
    "![scikit-learn website](sklearn.png)"
   ]
  },
  {
   "cell_type": "markdown",
   "metadata": {},
   "source": [
    "Voyons maintenant comment fonctionne l'implémentation k-NN de scikit-learn. Une chose intéressante à propos de scikit-learn est qu’ils ont de nombreux exemples disponibles en ligne. Nous pouvons donc simplement rechercher quelque chose de similaire à ce que nous essayons de faire. Pour la classification k-NN en particulier, il y a cette: http://scikit-learn.org/stable/auto_examples/neighbors/plot_classification.html#sphx-glr-auto-examples-neighbors-plot-classification-py"
   ]
  },
  {
   "cell_type": "code",
   "execution_count": null,
   "metadata": {},
   "outputs": [],
   "source": [
    "from sklearn import neighbors\n",
    "clf = neighbors.KNeighborsClassifier(10)\n",
    "clf.fit(X, y)"
   ]
  },
  {
   "cell_type": "markdown",
   "metadata": {},
   "source": [
    "Et fait! Avec seulement trois lignes de code, nous avons pu répéter tout ce que nous avions fait jusqu'à présent. Voyons si nous obtenons la même erreur d’entraînement que précédemment."
   ]
  },
  {
   "cell_type": "code",
   "execution_count": null,
   "metadata": {},
   "outputs": [],
   "source": [
    "train_error = np.mean(y != clf.predict(X))\n",
    "test_error = np.mean(y_test != clf.predict(X_test))\n",
    "#train_error = 1. - clf.score(X, y)\n",
    "#test_error = 1. - clf.score(X_test, y_test)\n",
    "\n",
    "print(\"train/test error (for k = 10): %g/%g\" % (train_error, test_error))"
   ]
  },
  {
   "cell_type": "markdown",
   "metadata": {},
   "source": [
    "Puisque les choses sont optimisées ici, nous pouvons même faire des choses plus cool, comme tracer les limites de décision réelles. Pour ce faire, générons une grille et calculons l'estimation pour chaque point de cette grille."
   ]
  },
  {
   "cell_type": "code",
   "execution_count": null,
   "metadata": {},
   "outputs": [],
   "source": [
    "# Create a grid\n",
    "xx, yy = np.meshgrid(np.linspace(-5, 5, 101), np.linspace(-5, 5, 101))\n",
    "zz = clf.predict(np.c_[xx.ravel(), yy.ravel()])\n",
    "\n",
    "# Do some plotting\n",
    "zz = zz.reshape(xx.shape)\n",
    "plt.pcolormesh(xx, yy, zz, cmap = \"coolwarm\", alpha = 0.2)\n",
    "plt.plot(X[y == 0, 0], X[y == 0, 1], \"o\", markersize=8)\n",
    "plt.plot(X[y == 1, 0], X[y == 1, 1], \"x\", markersize=8)"
   ]
  },
  {
   "cell_type": "markdown",
   "metadata": {},
   "source": [
    "### Determining the best value of $k$ by cross-validation"
   ]
  },
  {
   "cell_type": "markdown",
   "metadata": {},
   "source": [
    "Une façon de déterminer la \"meilleure\" valeur de $ k $ consiste à partitionner notre ensemble de données en deux (ensembles de formation et de validation), puis à ajuster sa valeur de manière à minimiser l’erreur de validation (nous avons ensuite besoin d’un troisième ensemble permettant de calculer les valeurs). erreur de test - ne jamais ajuster vos paramètres et calculer l'erreur de test en utilisant le même ensemble!)\n",
    "\n",
    "Cependant, cela ne nous fournit pas de bonnes statistiques car le partitionnement n’est effectué qu’une seule fois; une meilleure façon de le faire consiste à partitionner le jeu de données à plusieurs reprises et à recalculer le score. C'est l'idée derrière la validation croisée.\n",
    "\n",
    "scikit-learn a de belles fonctions pratiques pour effectuer une validation croisée (cross-validation) a nous proposer. Nous l'utiliserons souvent par la suite:"
   ]
  },
  {
   "cell_type": "code",
   "execution_count": null,
   "metadata": {},
   "outputs": [],
   "source": [
    "from sklearn.model_selection import GridSearchCV\n",
    "\n",
    "# Set up the grid search\n",
    "parameters = [{'n_neighbors': np.arange(1, 20)}]\n",
    "clf = GridSearchCV(neighbors.KNeighborsClassifier(n_neighbors = 1), parameters)\n",
    "clf.fit(X, y)\n",
    "\n",
    "# Print results\n",
    "print(clf.best_params_)\n",
    "print(clf.cv_results_[\"mean_test_score\"])"
   ]
  },
  {
   "cell_type": "markdown",
   "metadata": {},
   "source": [
    "Voyons comment cela fonctionne sur le test-set:"
   ]
  },
  {
   "cell_type": "code",
   "execution_count": null,
   "metadata": {},
   "outputs": [],
   "source": [
    "train_error = np.mean(y != clf.predict(X))\n",
    "test_error = np.mean(y_test != clf.predict(X_test))\n",
    "print(\"train/test error (for optimal k): %g/%g\" % (train_error, test_error))"
   ]
  },
  {
   "cell_type": "markdown",
   "metadata": {},
   "source": [
    "## Classification on real datasets: MNIST"
   ]
  },
  {
   "cell_type": "markdown",
   "metadata": {},
   "source": [
    "Enfin, laissez-nous travailler avec un vrai jeu de données! Si vous avez déjà étudié un peu de machine learning et de statistiques, vous connaissez probablement le jeu de données MNIST composé de chiffres manuscrits. C'est l'un des ensembles de données les plus célèbres utilisés pour l'analyse comparative des algorithmes de classification et de classification.\n",
    "\n",
    "Il est également inclus dans scikit-learn:"
   ]
  },
  {
   "cell_type": "code",
   "execution_count": null,
   "metadata": {},
   "outputs": [],
   "source": [
    "from sklearn.datasets import fetch_openml\n",
    "mnist = fetch_openml('mnist_784')"
   ]
  },
  {
   "cell_type": "markdown",
   "metadata": {},
   "source": [
    "Jetons un coup d'oeil aux données pour voir à quoi elles ressemblent."
   ]
  },
  {
   "cell_type": "code",
   "execution_count": null,
   "metadata": {},
   "outputs": [],
   "source": [
    "X = mnist.data\n",
    "y = mnist.target\n",
    "print(X.shape)\n",
    "print(y.shape)\n",
    "\n",
    "n_samples, n_features = np.shape(X)\n",
    "\n",
    "# Plot a sample\n",
    "plt.imshow(X[20000, :].reshape((int(np.sqrt(n_features)), -1)), cmap=\"gray\")\n",
    "\n",
    "# Partition set into train/test\n",
    "samples = np.random.randint(60000, size = 1000)\n",
    "X_train, y_train = X[samples, :], y[samples]\n",
    "X_test, y_test = X[60000:, :], y[60000:]"
   ]
  },
  {
   "cell_type": "code",
   "execution_count": null,
   "metadata": {},
   "outputs": [],
   "source": [
    "clf = neighbors.KNeighborsClassifier(n_neighbors=5)\n",
    "clf.fit(X_train, y_train)\n",
    "\n",
    "train_error = 1. - clf.score(X_train, y_train)\n",
    "test_error = 1. - clf.score(X_test, y_test)\n",
    "print(\"train/test error: %g/%g\" % (train_error, test_error))"
   ]
  },
  {
   "cell_type": "markdown",
   "metadata": {},
   "source": [
    "Ce n'est pas mauvais...   mais pas tellement bon non plus! Ce n'est pas tres rapide pour commencer... Vous pouvez essayer d'augmenter le nombre d'elements dans le trainign set (ici seulement 1000). Regardons les échantillons mal classés."
   ]
  },
  {
   "cell_type": "code",
   "execution_count": null,
   "metadata": {
    "scrolled": true
   },
   "outputs": [],
   "source": [
    "errors = np.where(y_train != clf.predict(X_train))\n",
    "print(errors)\n",
    "\n",
    "from random import sample\n",
    "nums=sample(list(errors[0]),4)\n",
    "\n",
    "fig, axs = plt.subplots(2, 2)\n",
    "axs[0, 0].imshow(X[nums[0], :].reshape((int(np.sqrt(n_features)), -1)), cmap=\"gray\")\n",
    "axs[0, 0].set_title(\"predicted label: %d\" % (clf.predict(X_train[nums[0], :].reshape(1, -1))))\n",
    "axs[0, 1].imshow(X[nums[1], :].reshape((int(np.sqrt(n_features)), -1)), cmap=\"gray\")\n",
    "axs[0, 1].set_title(\"predicted label: %d\" % (clf.predict(X_train[nums[1], :].reshape(1, -1))))\n",
    "axs[1, 0].imshow(X[nums[2], :].reshape((int(np.sqrt(n_features)), -1)), cmap=\"gray\")\n",
    "axs[1, 0].set_title(\"predicted label: %d\" % (clf.predict(X_train[nums[2], :].reshape(1, -1))))\n",
    "axs[1, 1].imshow(X[nums[3], :].reshape((int(np.sqrt(n_features)), -1)), cmap=\"gray\")\n",
    "axs[1, 1].set_title(\"predicted label: %d\" % (clf.predict(X_train[nums[3], :].reshape(1, -1))))"
   ]
  },
  {
   "cell_type": "markdown",
   "metadata": {},
   "source": [
    "Auparavant, nous n'exécutions $ k $ -NN que sur deux dimensions; maintenant nos vecteurs sont beaucoup plus gros, ils ont en réalité 768 dimensions. On s'attend à ce que les méthodes locales telles que $ k $ -NN ne fonctionnent pas aussi bien une fois que nous sommes passés à de grandes dimensions. Pourquoi donc?"
   ]
  },
  {
   "cell_type": "markdown",
   "metadata": {},
   "source": [
    "**exercice** : Nous allons utiliser le dataset \"diabete\", que vous pouvez telecharger ici: https://raw.githubusercontent.com/plotly/datasets/master/diabetes.csv"
   ]
  },
  {
   "cell_type": "code",
   "execution_count": null,
   "metadata": {},
   "outputs": [],
   "source": [
    "import pandas as pd\n",
    "#Load the dataset\n",
    "df = pd.read_csv('diabetes.csv')\n",
    "#Print the first 5 rows of the dataframe.\n",
    "df.head()"
   ]
  },
  {
   "cell_type": "code",
   "execution_count": null,
   "metadata": {},
   "outputs": [],
   "source": [
    "#Let's create numpy arrays for features and target\n",
    "X = df.drop('Outcome',axis=1).values\n",
    "y = df['Outcome'].values\n",
    "print(X.shape,y.shape)"
   ]
  },
  {
   "cell_type": "markdown",
   "metadata": {},
   "source": [
    "Séparons les données au hasard en un ensemble d’entraînement et de test.\n",
    "\n",
    "Nous allons adapter / former un classifieur sur l'ensemble d'entraînement et faire des prédictions sur l'ensemble d'essai. Ensuite, nous comparerons les prévisions avec les étiquettes connues.\n",
    "\n",
    "Scikit-learn permet de scinder les données en train et en ensembles de test à l’aide de la méthode train_test_split."
   ]
  },
  {
   "cell_type": "code",
   "execution_count": null,
   "metadata": {},
   "outputs": [],
   "source": [
    "#importing train_test_split\n",
    "from sklearn.model_selection import train_test_split\n",
    "X_train,X_test,y_train,y_test = train_test_split(X,y,test_size=0.4,random_state=42, stratify=y)"
   ]
  },
  {
   "cell_type": "markdown",
   "metadata": {},
   "source": [
    "Utilisez maintenant le knn classifier pour prediure le diagnostique d'un diabete a partir des données cliniques."
   ]
  },
  {
   "cell_type": "code",
   "execution_count": null,
   "metadata": {},
   "outputs": [],
   "source": []
  }
 ],
 "metadata": {
  "kernelspec": {
   "display_name": "Python 3",
   "language": "python",
   "name": "python3"
  },
  "language_info": {
   "codemirror_mode": {
    "name": "ipython",
    "version": 3
   },
   "file_extension": ".py",
   "mimetype": "text/x-python",
   "name": "python",
   "nbconvert_exporter": "python",
   "pygments_lexer": "ipython3",
   "version": "3.8.5"
  }
 },
 "nbformat": 4,
 "nbformat_minor": 2
}
